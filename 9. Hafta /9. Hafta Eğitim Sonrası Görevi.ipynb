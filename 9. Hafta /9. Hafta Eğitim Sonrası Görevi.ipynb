{
 "cells": [
  {
   "attachments": {},
   "cell_type": "markdown",
   "metadata": {},
   "source": [
    "# Problem 1\n",
    "\n",
    "Kumanda isminde bir sınıf oluşturarak aşağıdaki işlemleri yapmasını sağlayan fonksiyonları sınıf içerisinde yazalım.\n",
    "1. Tv Aç\n",
    "2. Tv Kapat\n",
    "3. Ses Ayarları\n",
    "4. Kanal Ekle\n",
    "5. Kanal Sayısını Öğrenme\n",
    "6. Rastgele Kanala Geçme\n",
    "7. Televizyon Bilgileri\n",
    "\n",
    "\n",
    "Kumandayı kapatmak için q tuşuna basılmalı ve diğer durumlarda hangi işlemi yapmak istediği sorulmalıdır. Her işlemde gerekli fonksiyonunun sınıf içerisinden çağırılması gerekmektedir.\n",
    "\n",
    "random ve time kütüphanesini araştırarak kullanabilirsiniz.\n",
    "\n",
    "Kendi istediğiniz özellikleri eklemekte serbetsiniz."
   ]
  },
  {
   "cell_type": "code",
   "execution_count": 12,
   "metadata": {},
   "outputs": [
    {
     "name": "stdout",
     "output_type": "stream",
     "text": [
      "Televizyon açılıyor.\n",
      "Televizyon kapatılıyor...\n",
      "Televizyon açılıyor.\n"
     ]
    },
    {
     "ename": "TypeError",
     "evalue": "'int' object is not callable",
     "output_type": "error",
     "traceback": [
      "\u001b[0;31m---------------------------------------------------------------------------\u001b[0m",
      "\u001b[0;31mTypeError\u001b[0m                                 Traceback (most recent call last)",
      "Cell \u001b[0;32mIn[12], line 72\u001b[0m\n\u001b[1;32m     70\u001b[0m     kumanda\u001b[38;5;241m.\u001b[39mtv_kapat()\n\u001b[1;32m     71\u001b[0m \u001b[38;5;28;01melif\u001b[39;00m inp \u001b[38;5;241m==\u001b[39m \u001b[38;5;124m'\u001b[39m\u001b[38;5;124m3\u001b[39m\u001b[38;5;124m'\u001b[39m:\n\u001b[0;32m---> 72\u001b[0m     \u001b[43mkumanda\u001b[49m\u001b[38;5;241;43m.\u001b[39;49m\u001b[43mvolume\u001b[49m\u001b[43m(\u001b[49m\u001b[43m)\u001b[49m\n\u001b[1;32m     73\u001b[0m \u001b[38;5;28;01melif\u001b[39;00m inp \u001b[38;5;241m==\u001b[39m \u001b[38;5;124m'\u001b[39m\u001b[38;5;124m4\u001b[39m\u001b[38;5;124m'\u001b[39m:\n\u001b[1;32m     74\u001b[0m     kanal_isim \u001b[38;5;241m=\u001b[39m \u001b[38;5;28minput\u001b[39m(\u001b[38;5;124m'\u001b[39m\u001b[38;5;124mKanal ismi girin: \u001b[39m\u001b[38;5;124m'\u001b[39m)\n",
      "\u001b[0;31mTypeError\u001b[0m: 'int' object is not callable"
     ]
    }
   ],
   "source": [
    "\n",
    "\n",
    "import random\n",
    "import time\n",
    "\n",
    "class Kumanda:\n",
    "    def __init__(self, name: str, volume: int, tv_status: bool, kanal_listesi: list, kanal: str):\n",
    "        self.name = name\n",
    "        self.volume = volume\n",
    "        self.tv_status = tv_status\n",
    "        self.kanal_listesi = kanal_listesi\n",
    "        self.kanal = kanal\n",
    "    \n",
    "    def tv_ac(self):\n",
    "        if not self.tv_status:\n",
    "            self.tv_status = True\n",
    "            print('Televizyon açılıyor.')\n",
    "        else:\n",
    "            print(\"Televizyon zaten açık.\")\n",
    "\n",
    "    def tv_kapat(self):\n",
    "        if self.tv_status:\n",
    "            self.tv_status = False\n",
    "            print('Televizyon kapatılıyor...')\n",
    "        else:\n",
    "            print(\"Televizyon zaten kapalı.\")\n",
    "    \n",
    "    def volume(self):\n",
    "        while True:\n",
    "            inp = input('Sesi azalt:<\\n Sesi arttır:>\\n Çıkış:q\\n')\n",
    "            if inp == 'q':\n",
    "                break\n",
    "            elif inp == '<' and self.volume > 0:\n",
    "                self.volume -= 1\n",
    "            elif inp == '>' and self.volume < 100:\n",
    "                self.volume += 1\n",
    "            elif inp == '<<' and self.volume > 4:\n",
    "                self.volume -= 5\n",
    "            elif inp == '>>' and self.volume < 96:\n",
    "                self.volume += 5\n",
    "    \n",
    "    def kanal_ekle(self, kanal):\n",
    "        if kanal not in self.kanal_listesi:\n",
    "            self.kanal_listesi.append(kanal)\n",
    "            print(f\"{kanal} kanalı eklendi.\")\n",
    "        else:\n",
    "            print(\"Bu kanal zaten mevcut.\")\n",
    "    \n",
    "    def rastgele_kanal(self):\n",
    "        if self.kanal_listesi:\n",
    "            self.kanal = random.choice(self.kanal_listesi)\n",
    "            print(f\"Rastgele seçilen kanal: {self.kanal}\")\n",
    "        else:\n",
    "            print(\"Kanal listesi boş.\")\n",
    "    \n",
    "    def __len__(self):\n",
    "        return len(self.kanal_listesi)\n",
    "    \n",
    "    def __str__(self):\n",
    "        return (f'Tv durumu: {self.tv_status}\\n'\n",
    "                f'Kanal Listesi: {self.kanal_listesi}\\n'\n",
    "                f'Güncel kanal: {self.kanal}\\n'\n",
    "                f'TV sesi: {self.volume}')\n",
    "\n",
    "kumanda = Kumanda(name='Kumandam', volume=20, tv_status=False, kanal_listesi=[], kanal='')\n",
    "\n",
    "while True:\n",
    "    inp = input('İşlem girin (1-7, q çıkış): ')\n",
    "    if inp == '1':\n",
    "        kumanda.tv_ac()\n",
    "    elif inp == '2':\n",
    "        kumanda.tv_kapat()\n",
    "    elif inp == '3':\n",
    "        kumanda.volume()\n",
    "    elif inp == '4':\n",
    "        kanal_isim = input('Kanal ismi girin: ')\n",
    "        kumanda.kanal_ekle(kanal_isim)\n",
    "    elif inp == '5':\n",
    "        print('Kanal sayısı:', len(kumanda))\n",
    "    elif inp == '6':\n",
    "        kumanda.rastgele_kanal()\n",
    "    elif inp == '7':\n",
    "        print(kumanda)\n",
    "    elif inp == 'q':\n",
    "        print(\"Çıkılıyor...\")\n",
    "        break\n",
    "    else:\n",
    "        print(\"Geçersiz seçenek. Lütfen tekrar deneyin.\")\n",
    "\n",
    " \n"
   ]
  }
 ],
 "metadata": {
  "kernelspec": {
   "display_name": "Python 3",
   "language": "python",
   "name": "python3"
  },
  "language_info": {
   "codemirror_mode": {
    "name": "ipython",
    "version": 3
   },
   "file_extension": ".py",
   "mimetype": "text/x-python",
   "name": "python",
   "nbconvert_exporter": "python",
   "pygments_lexer": "ipython3",
   "version": "3.12.3"
  },
  "orig_nbformat": 4,
  "vscode": {
   "interpreter": {
    "hash": "5026d2d6e7aaaaba093def813beadff083d8733e4a511af01735cbabd156995d"
   }
  }
 },
 "nbformat": 4,
 "nbformat_minor": 2
}
