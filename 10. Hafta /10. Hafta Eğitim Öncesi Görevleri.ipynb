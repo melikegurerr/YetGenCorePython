{
 "cells": [
  {
   "attachments": {},
   "cell_type": "markdown",
   "metadata": {},
   "source": [
    "# Problem 1"
   ]
  },
  {
   "cell_type": "code",
   "execution_count": 2,
   "metadata": {},
   "outputs": [
    {
     "name": "stdout",
     "output_type": "stream",
     "text": [
      "matris: [ 0.   2.5  5.   7.5 10. ]\n",
      "matrisin boyutu: (5,)\n",
      "[[ 0. ]\n",
      " [ 2.5]\n",
      " [ 5. ]\n",
      " [ 7.5]\n",
      " [10. ]]\n",
      "matris'in boyut sayısı: 2\n"
     ]
    }
   ],
   "source": [
    "# 1 - numpy kütüphanesini import edin\n",
    "\n",
    "# 2 - 0 ile 10 arasında 5 sayıdan oluşan matris üretin\n",
    "\n",
    "# 3 - matris'in boyutunu öğrenin\n",
    "\n",
    "# 4 - matris'i yeniden boyutlandırın\n",
    "\n",
    "# 5 - matris'in boyut sayısını öğrenin\n",
    "\n",
    "import numpy as np\n",
    "matrix = np.linspace(0, 10, 5)\n",
    "print(\"matris:\", matrix)\n",
    "shape = matrix.shape\n",
    "print(\"matrisin boyutu:\", shape)\n",
    "reshaped_matrix = matrix.reshape(5, 1)  \n",
    "print(reshaped_matrix)\n",
    "boyutSayisi = reshaped_matrix.ndim\n",
    "print(\"matris'in boyut sayısı:\", boyutSayisi)\n",
    "\n",
    "\n",
    "\n",
    "\n"
   ]
  },
  {
   "attachments": {},
   "cell_type": "markdown",
   "metadata": {},
   "source": [
    "# Problem 2"
   ]
  },
  {
   "cell_type": "code",
   "execution_count": 8,
   "metadata": {},
   "outputs": [
    {
     "name": "stdout",
     "output_type": "stream",
     "text": [
      "tek sayilar matrisi: [1 3 5 7 9]\n",
      "parcalanmis matrisler:\n",
      "parca 1: [1 3]\n",
      "parca 2: [5]\n",
      "parca 3: [7]\n",
      "parca 4: [9]\n",
      "birlestirilmis matris: [1 3 5 7 9]\n"
     ]
    }
   ],
   "source": [
    "# 1 - 0 ile 10 arasında bulunan tek sayılardan oluşan matris üretin\n",
    "\n",
    "# 2 - Oluşturduğunuz matrisi parçalayın\n",
    "\n",
    "# 3 - Parçalanmış matrisleri birleştirin\n",
    "\n",
    "\n",
    "import numpy as np\n",
    "matrix = np.arange(1, 11, 2)\n",
    "print(\"tek sayilar matrisi:\", matrix)\n",
    "parcalanmisMatris = np.array_split(matrix, 4)\n",
    "print(\"parcalanmis matrisler:\")\n",
    "for i, part in enumerate(parcalanmisMatris):\n",
    "    print(f\"parca {i+1}:\", part)\n",
    "birlestirilmisMatris= np.concatenate(parcalanmisMatris)\n",
    "print(\"birlestirilmis matris:\",birlestirilmisMatris)\n",
    "\n",
    "\n"
   ]
  },
  {
   "attachments": {},
   "cell_type": "markdown",
   "metadata": {},
   "source": [
    "# Problem 3"
   ]
  },
  {
   "cell_type": "code",
   "execution_count": 7,
   "metadata": {},
   "outputs": [
    {
     "name": "stdout",
     "output_type": "stream",
     "text": [
      "Rastgele 10 sayıdan oluşan matris: [91 59 37 11 63 47  9 93 25 71]\n",
      "matrisin boyutu: (10,)\n",
      "matrisin eleman sayisi: 10\n",
      "matrisin boyut sayisi: 1\n",
      "matrisin toplami: 506\n",
      "matrisin ortalamasi: 50.6\n"
     ]
    }
   ],
   "source": [
    "# 1 - 5 ile 100 arasında ikişer ikişer atlayarak rastgele 10 sayıdan oluşan matris üretin\n",
    "\n",
    "# 2 - matris'in özelliklerini inceleyin\n",
    "\n",
    "import numpy as np\n",
    "range_array = np.arange(5, 101, 2)\n",
    "matrix = np.random.choice(range_array, size=10, replace=False)\n",
    "print(\"Rastgele 10 sayıdan oluşan matris:\", matrix)\n",
    "shape = matrix.shape\n",
    "print(\"matrisin boyutu:\", shape)\n",
    "\n",
    "elemanSayisi = matrix.size\n",
    "print(\"matrisin eleman sayisi:\",elemanSayisi)\n",
    "\n",
    "boyutSayisi = matrix.ndim\n",
    "print(\"matrisin boyut sayisi:\",boyutSayisi)\n",
    "\n",
    "toplam= np.sum(matrix)\n",
    "print(\"matrisin toplami:\",toplam)\n",
    "\n",
    "ortalama = np.mean(matrix)\n",
    "print(\"matrisin ortalamasi:\",ortalama)\n",
    "\n",
    "\n"
   ]
  }
 ],
 "metadata": {
  "kernelspec": {
   "display_name": "Python 3",
   "language": "python",
   "name": "python3"
  },
  "language_info": {
   "codemirror_mode": {
    "name": "ipython",
    "version": 3
   },
   "file_extension": ".py",
   "mimetype": "text/x-python",
   "name": "python",
   "nbconvert_exporter": "python",
   "pygments_lexer": "ipython3",
   "version": "3.12.3"
  },
  "orig_nbformat": 4,
  "vscode": {
   "interpreter": {
    "hash": "5026d2d6e7aaaaba093def813beadff083d8733e4a511af01735cbabd156995d"
   }
  }
 },
 "nbformat": 4,
 "nbformat_minor": 2
}
