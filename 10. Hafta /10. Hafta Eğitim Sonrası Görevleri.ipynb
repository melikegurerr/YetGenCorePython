{
 "cells": [
  {
   "attachments": {},
   "cell_type": "markdown",
   "metadata": {},
   "source": [
    "# Problem 1 "
   ]
  },
  {
   "cell_type": "code",
   "execution_count": 1,
   "metadata": {},
   "outputs": [
    {
     "name": "stdout",
     "output_type": "stream",
     "text": [
      "array: [ 6  4  5 20 24]\n",
      "Kucukten buyuge dogru siralanmis array: [ 4  5  6 20 24]\n"
     ]
    }
   ],
   "source": [
    "# 1 - numpy kütüphanesini import edin\n",
    "\n",
    "# 2 - 5 elemanlı bir numpy array oluşturun\n",
    "\n",
    "# 3 - Oluşturduğunuz arrayi küçükten büyüğe sıralayın.\n",
    "import numpy as np\n",
    "array = np.array([6, 4, 5, 20, 24])\n",
    "print(\"array:\", array)\n",
    "kucuktenBuyuge = np.sort(array)\n",
    "print(\"Kucukten buyuge dogru siralanmis array:\",kucuktenBuyuge)\n",
    "\n"
   ]
  },
  {
   "attachments": {},
   "cell_type": "markdown",
   "metadata": {},
   "source": [
    "# Problem 2"
   ]
  },
  {
   "cell_type": "code",
   "execution_count": 4,
   "metadata": {},
   "outputs": [
    {
     "name": "stdout",
     "output_type": "stream",
     "text": [
      "dizi1: [10 15 30 45 60]\n",
      "dizi22: [ 5  6  7  8  9 10 11 12 13 14 15]\n",
      "dizi3: [ 50  55  60  65  70  75  80  85  90  95 100]\n",
      "dizi4: [0. 0. 0. 0. 0. 0. 0. 0. 0. 0.]\n",
      "dizi5: [1. 1. 1. 1. 1. 1. 1. 1. 1. 1.]\n",
      "dizi6: [  0.  25.  50.  75. 100.]\n",
      "dizi7: [10 20 10 18 16]\n",
      "dizi8: [-0.72715624  0.01995221  0.97947822 -0.39581759 -0.8866614  -0.89413015\n",
      " -0.05959952 -0.94913608  0.48335859 -0.2633138 ]\n",
      "matris:\n",
      " [[39 17 50 14 33]\n",
      " [18 43 37 44 19]\n",
      " [10 42 49 15 33]]\n",
      "satşr sayisi: 3\n",
      "sütun sayisi: 5\n",
      "toplam: 8\n",
      "en büyük deger: 50\n",
      "en kücük deger: 10\n",
      "ortalama: 30.866666666666667\n",
      "en büyük değerin indeksi: 2\n",
      "ilk 3 eleman: [10 11 12]\n",
      "tersten hali: [20 19 18 17 16 15 14 13 12 11 10]\n",
      "ilk satir: [39 17 50 14 33]\n",
      "2.satir 3. sütundaki eleman: 37\n",
      "tum satirlardaki ilk elemanlar: [39 18 10]\n",
      "elemanlarinin karesi: [[1521  289 2500  196 1089]\n",
      " [ 324 1849 1369 1936  361]\n",
      " [ 100 1764 2401  225 1089]]\n",
      "pozitif cift sayilar: [26 20 42 26  4 42]\n"
     ]
    }
   ],
   "source": [
    "# 1- (10,15,30,45,60) değerlerine sahip numpy dizisi oluşturunuz.\n",
    "import numpy as np\n",
    "array1 = np.array([10, 15, 30, 45, 60])\n",
    "print(\"dizi1:\", array1)\n",
    "\n",
    "# 2- (5-15) arasındaki sayılarla numpy dizisi oluşturunuz.\n",
    "array2 = np.arange(5, 16)\n",
    "print(\"dizi22:\", array2)\n",
    "\n",
    "# 3- (50-100) arasında 5'er 5'er artarak numpy dizisi oluşturunuz.\n",
    "array3 = np.arange(50, 101, 5)\n",
    "print(\"dizi3:\", array3)\n",
    "\n",
    "# 4- 10 elemanlı sıfırlardan oluşan bir dizi oluşturunuz.\n",
    "array4 = np.zeros(10)\n",
    "print(\"dizi4:\", array4)\n",
    "\n",
    "# 5- 10 elemanlı birlerden oluşan bir dizi oluşturunuz.\n",
    "array5 = np.ones(10)\n",
    "print(\"dizi5:\", array5)\n",
    "\n",
    "# 6- (0-100) arasında eşit aralıklı 5 sayı üretin.\n",
    "array6 = np.linspace(0, 100, 5)\n",
    "print(\"dizi6:\", array6)\n",
    "\n",
    "# 7- (10-30) arasında rastgele 5 tane tamsayı üretin.\n",
    "array7 = np.random.randint(10, 31, size=5)\n",
    "print(\"dizi7:\", array7)\n",
    "\n",
    "# 8- [-1 ile 1] arasında 10 adet sayı üretin.\n",
    "array8 = np.random.uniform(-1, 1, size=10)\n",
    "print(\"dizi8:\", array8)\n",
    "\n",
    "# 9- (3x5) boyutlarında (10-50) arasında rastgele bir matris oluşturunuz.\n",
    "matrix = np.random.randint(10, 51, size=(3, 5))\n",
    "print(\"matris:\\n\", matrix)\n",
    "\n",
    "# 10- Üretilen matrisin satır ve sütun sayıları toplamlarını hesaplayınız ?\n",
    "satirlar,sütunlar = matrix.shape\n",
    "print(\"satşr sayisi:\", satirlar)\n",
    "print(\"sütun sayisi:\", sütunlar)\n",
    "print(\"toplam:\", satirlar + sütunlar)\n",
    "\n",
    "# 11- Üretilen matrisin en büyük, en küçük ve ortalaması nedir ?\n",
    "maxDeger = np.max(matrix)\n",
    "minDeger = np.min(matrix)\n",
    "ortDeger = np.mean(matrix)\n",
    "print(\"en büyük deger:\", maxDeger)\n",
    "print(\"en kücük deger:\", minDeger)\n",
    "print(\"ortalama:\", ortDeger)\n",
    "\n",
    "# 12- Üretilen matrisin en büyük değerinin indeksi kaçtır ?\n",
    "maxIndex = np.argmax(matrix)\n",
    "print(\"en büyük değerin indeksi:\", maxIndex)\n",
    "\n",
    "# 13- (10-20) arasındaki sayıları içeren dizinin ilk 3 elemanını seçiniz.\n",
    "array13 = np.arange(10, 21)\n",
    "print(\"ilk 3 eleman:\", array13[:3])\n",
    "\n",
    "# 14- Üretilen dizinin elemanlarını tersten yazdırın.\n",
    "print(\"tersten hali:\", array13[::-1])\n",
    "\n",
    "# 15- Üretilen matrisin ilk satırını seçiniz.\n",
    "ilkSatir= matrix[0]\n",
    "print(\"ilk satir:\",ilkSatir)\n",
    "\n",
    "# 16- Üretilen matrisin 2.satır 3.sütundaki elemanı hangisidir ?\n",
    "eleman = matrix[1,2]\n",
    "print(\"2.satir 3. sütundaki eleman:\", eleman)\n",
    "\n",
    "# 17- Üretilen matrisin tüm satırlardaki ilk elemanı seçiniz.\n",
    "ilkElemanlar = matrix[:, 0]\n",
    "print(\"tum satirlardaki ilk elemanlar:\",ilkElemanlar)\n",
    "\n",
    "# 18- Üretilen matrisin her bir elemanının karesini alınız.\n",
    "elemanlarinKareleri = np.power(matrix, 2)\n",
    "print(\"elemanlarinin karesi:\",elemanlarinKareleri)\n",
    "\n",
    "# 19- Üretilen matris elemanlarının hangisi pozitif çift sayıdır ? Aralığı (-50,+50) arasında yapınız.\n",
    "matrixx = np.random.randint(-50, 51, size=(3, 5))\n",
    "pozitifCift = matrixx[(matrixx > 0) & (matrixx % 2 == 0)]\n",
    "print(\"pozitif cift sayilar:\",pozitifCift)\n"
   ]
  }
 ],
 "metadata": {
  "kernelspec": {
   "display_name": "Python 3",
   "language": "python",
   "name": "python3"
  },
  "language_info": {
   "codemirror_mode": {
    "name": "ipython",
    "version": 3
   },
   "file_extension": ".py",
   "mimetype": "text/x-python",
   "name": "python",
   "nbconvert_exporter": "python",
   "pygments_lexer": "ipython3",
   "version": "3.12.3"
  },
  "orig_nbformat": 4,
  "vscode": {
   "interpreter": {
    "hash": "5026d2d6e7aaaaba093def813beadff083d8733e4a511af01735cbabd156995d"
   }
  }
 },
 "nbformat": 4,
 "nbformat_minor": 2
}
